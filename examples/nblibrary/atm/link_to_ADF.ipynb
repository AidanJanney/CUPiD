{
 "cells": [
  {
   "cell_type": "markdown",
   "id": "623cbc23-45bf-4dfd-9f49-8d814d0394ba",
   "metadata": {},
   "source": [
    "# Link to ADF output\n",
    "\n",
    "The output from the stand-alone ADF configuration is in the link below"
   ]
  },
  {
   "cell_type": "code",
   "execution_count": null,
   "id": "82af7435-3849-4fd1-bb2d-2e062719ec5b",
   "metadata": {
    "editable": true,
    "slideshow": {
     "slide_type": ""
    },
    "tags": [
     "hide-cell"
    ]
   },
   "outputs": [],
   "source": [
    "import os\n",
    "from IPython.core.display import HTML, Image\n",
    "from IPython.display import display"
   ]
  },
  {
   "cell_type": "code",
   "execution_count": null,
   "id": "2a759f1b-eca7-4eec-a16a-eede1a6ab36c",
   "metadata": {
    "editable": true,
    "slideshow": {
     "slide_type": ""
    },
    "tags": [
     "parameters",
     "hide-input"
    ]
   },
   "outputs": [],
   "source": [
    "adf_root = \"../ADF/\"\n",
    "# adf_root will be external_diag_packages/computed_notebooks/external_diag_packages/ADF/\n",
    "\n",
    "display(HTML(f'<a href=\"{adf_root}\">Link to Full ADF output</a>'))"
   ]
  },
  {
   "cell_type": "markdown",
   "id": "f9234aec-1fe5-4bbf-ad6c-fb565297afbe",
   "metadata": {},
   "source": [
    "## Key Metrics from ADF\n",
    "These will eventually be put in the key_metrics example, but are a proof of concept of including individual plots from ADF directly linked in the JupyterBook."
   ]
  },
  {
   "cell_type": "code",
   "execution_count": null,
   "id": "be819352-c723-4f48-afac-d93f6d192f96",
   "metadata": {
    "editable": true,
    "slideshow": {
     "slide_type": ""
    },
    "tags": [
     "hide-input"
    ]
   },
   "outputs": [],
   "source": [
    "list_of_key_plots = [\n",
    "    \"../../docs/_static/images/logos/logo.png\",\n",
    "    \"Surface_Wind_Stress_ANN_LatLon_Vector_Mean.png\",\n",
    "    \"PRECT_ANN_LatLon_Mean.png\",\n",
    "    \"PS_DJF_SHPolar_Mean.png\",\n",
    "    \"TaylorDiag_ANN_Special_Mean.png\",\n",
    "]\n",
    "for path_to_key_plot in list_of_key_plots:\n",
    "    full_path = os.path.join(adf_root, path_to_key_plot)\n",
    "    if os.path.isfile(full_path):\n",
    "        display(Image(full_path))"
   ]
  }
 ],
 "metadata": {
  "kernelspec": {
   "display_name": "cupid-analysis",
   "language": "python",
   "name": "cupid-analysis"
  },
  "language_info": {
   "codemirror_mode": {
    "name": "ipython",
    "version": 3
   },
   "file_extension": ".py",
   "mimetype": "text/x-python",
   "name": "python",
   "nbconvert_exporter": "python",
   "pygments_lexer": "ipython3",
   "version": "3.11.4"
  }
 },
 "nbformat": 4,
 "nbformat_minor": 5
}
