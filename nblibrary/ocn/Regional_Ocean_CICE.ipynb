{
 "cells": [
  {
   "cell_type": "markdown",
   "id": "13a69f1d",
   "metadata": {},
   "source": [
    "## Regional Ocean: Coupled Sea Ice Diagnostics"
   ]
  },
  {
   "cell_type": "markdown",
   "id": "ad57b950",
   "metadata": {},
   "source": []
  }
 ],
 "metadata": {
  "language_info": {
   "name": "python"
  }
 },
 "nbformat": 4,
 "nbformat_minor": 5
}
