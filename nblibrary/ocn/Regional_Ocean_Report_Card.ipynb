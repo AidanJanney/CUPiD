{
 "cells": [
  {
   "cell_type": "markdown",
   "id": "ebbe956a",
   "metadata": {},
   "source": [
    "## Regional Ocean: Basic Region and Surface Field Visualization"
   ]
  },
  {
   "cell_type": "markdown",
   "id": "8c75d984",
   "metadata": {},
   "source": [
    "Note: This notebook is meant to be run with the cupid-analysis kernel (see [CUPiD Installation](https://ncar.github.io/CUPiD/index.html#installing)). This notebook is often run by default as part of [CESM post-processing steps](https://ncar.github.io/CUPiD/run_cesm.html), but you can also run it manually."
   ]
  },
  {
   "cell_type": "code",
   "execution_count": null,
   "id": "e6f02d06",
   "metadata": {
    "tags": [
     "hide-input"
    ]
   },
   "outputs": [],
   "source": [
    "%load_ext autoreload\n",
    "%autoreload 2\n",
    "import numpy as np\n",
    "import xarray as xr\n",
    "import matplotlib.pyplot as plt\n",
    "\n",
    "from cartopy import crs as ccrs, feature as cfeature\n",
    "import cartopy\n",
    "import warnings\n",
    "import os\n",
    "from glob import glob\n",
    "\n",
    "import regional_utils"
   ]
  },
  {
   "cell_type": "code",
   "execution_count": null,
   "id": "885bf6f4",
   "metadata": {
    "tags": [
     "parameters",
     "hide-input"
    ]
   },
   "outputs": [],
   "source": [
    "CESM_output_dir = \"\"  # \"/glade/u/home/manishrv/scratch/archive/\"  # /glade/derecho/scratch/ajanney/archive/\"  \"\n",
    "case_name = \"\"  # \"gustavo-glorys-2\"  # \"CrocCaribGio\"\n",
    "\n",
    "ts_dir = None  # \"/glade/campaign/cesm/development/cross-wg/diagnostic_framework/CESM_output_for_testing\"\n",
    "base_case_output_dir = None  # None => use CESM_output_dir\n",
    "base_case_name = None  # \"b.e23_alpha17f.BLT1850.ne30_t232.092\"\n",
    "\n",
    "## As regional domains will vary so much in application, we don't want to assume a minimum duration\n",
    "## Thus, we can ignore start and end dates and simply reduce over the whole time frame.\n",
    "start_date = None  # \"0001-01-01\"\n",
    "end_date = None  # \"0101-01-01\"\n",
    "base_start_date = None  # \"0001-01-01\"\n",
    "base_end_date = None  # \"0101-01-01\"\n",
    "\n",
    "obs_data_dir = None  # \"/glade/campaign/cesm/development/cross-wg/diagnostic_framework/CUPiD_obs_data\"\n",
    "\n",
    "serial = False  # use dask LocalCluster\n",
    "\n",
    "savefigs = False\n",
    "\n",
    "lc_kwargs = {}"
   ]
  },
  {
   "cell_type": "code",
   "execution_count": null,
   "id": "468be415",
   "metadata": {
    "tags": [
     "hide-input"
    ]
   },
   "outputs": [],
   "source": [
    "CESM_output_dir = \"/glade/u/home/manishrv/scratch/archive/\"  # /glade/derecho/scratch/ajanney/archive/\"  \"\n",
    "case_name = \"gustavo-glorys-2\"  # \"CrocCaribGio\"\n",
    "\n",
    "ts_dir = None  # \"/glade/campaign/cesm/development/cross-wg/diagnostic_framework/CESM_output_for_testing\"\n",
    "base_case_output_dir = None  # None => use CESM_output_dir\n",
    "base_case_name = None  # \"b.e23_alpha17f.BLT1850.ne30_t232.092\"\n",
    "\n",
    "## As regional domains will vary so much in application, we don't want to assume a minimum duration\n",
    "## Thus, we can ignore start and end dates and simply reduce over the whole time frame.\n",
    "start_date = None  # \"0001-01-01\"\n",
    "end_date = None  # \"0101-01-01\"\n",
    "base_start_date = None  # \"0001-01-01\"\n",
    "base_end_date = None  # \"0101-01-01\"\n",
    "\n",
    "obs_data_dir = None  # \"/glade/campaign/cesm/development/cross-wg/diagnostic_framework/CUPiD_obs_data\"\n",
    "\n",
    "serial = False  # use dask LocalCluster\n",
    "\n",
    "savefigs = True\n",
    "image_output_dir = \"/glade/derecho/scratch/ajanney/archive\"  # if None, will be created in case directory\n",
    "\n",
    "lc_kwargs = {}"
   ]
  },
  {
   "cell_type": "code",
   "execution_count": null,
   "id": "2833b40c",
   "metadata": {
    "tags": [
     "hide-input"
    ]
   },
   "outputs": [],
   "source": [
    "OUTDIR = f\"{CESM_output_dir}/{case_name}/ocn/hist/\"\n",
    "print(\"Output directory is:\", OUTDIR)"
   ]
  },
  {
   "cell_type": "code",
   "execution_count": null,
   "id": "4751cd33",
   "metadata": {
    "tags": [
     "hide-input"
    ]
   },
   "outputs": [],
   "source": [
    "# When running interactively, cupid_run should be set to 0\n",
    "# this will spin-up a DASK cluster in the notebook, it may need a few mintues\n",
    "\n",
    "cupid_run = 1\n",
    "\n",
    "if cupid_run == 1:\n",
    "\n",
    "    from dask.distributed import Client, LocalCluster\n",
    "\n",
    "    # Spin up cluster (if running in parallel)\n",
    "    client = None\n",
    "    if not serial:\n",
    "        cluster = LocalCluster(**lc_kwargs)\n",
    "        client = Client(cluster)\n",
    "\n",
    "else:\n",
    "\n",
    "    from dask.distributed import Client\n",
    "    from dask_jobqueue import PBSCluster\n",
    "\n",
    "    # Make sure to run on Casper or another system that is able\n",
    "    # to allocate cores and not just nodes\n",
    "    cluster = PBSCluster(\n",
    "        cores=12,\n",
    "        processes=12,\n",
    "        memory=\"120GB\",\n",
    "        account=\"P93300012\",\n",
    "        queue=\"casper\",\n",
    "        walltime=\"02:00:00\",\n",
    "    )\n",
    "\n",
    "    client = Client(cluster)\n",
    "\n",
    "    cluster.scale(1)\n",
    "\n",
    "    print(cluster)\n",
    "\n",
    "client"
   ]
  },
  {
   "cell_type": "markdown",
   "id": "2bf72fec",
   "metadata": {},
   "source": [
    "## Load in Model Output and Peek at Variables\n",
    "\n",
    "#### Default File Structure in MOM6\n",
    "This file structure will be different if you modify the diag_table.\n",
    "\n",
    "- **static data**: contains horizontal grid, vertical grid, land/sea mask, bathymetry, lat/lon information\n",
    "- **sfc data**: daily output of 2D surface fields (salinity, temp, SSH, velocities)\n",
    "- **monthly data**: averaged monthly output of the full 3D domain, regridded to predefined grid (MOM6 default WOA)\n",
    "- **native data**: averaged monthly output of ocean state and atmospheric fluxes"
   ]
  },
  {
   "cell_type": "code",
   "execution_count": null,
   "id": "9e3ca8f8",
   "metadata": {
    "tags": [
     "hide-output"
    ]
   },
   "outputs": [],
   "source": [
    "case_output_dir = os.path.join(CESM_output_dir, case_name, \"ocn\", \"hist\")\n",
    "\n",
    "# Xarray time decoding things\n",
    "time_coder = xr.coders.CFDatetimeCoder(use_cftime=True)\n",
    "\n",
    "## Static data includes hgrid, vgrid, bathymetry, land/sea mask\n",
    "static_data = xr.open_mfdataset(\n",
    "    os.path.join(case_output_dir, f\"*static.nc\"),\n",
    "    decode_timedelta=True,\n",
    "    decode_times=time_coder,\n",
    ")\n",
    "\n",
    "## Surface Data\n",
    "sfc_data = xr.open_mfdataset(\n",
    "    os.path.join(case_output_dir, f\"*sfc*.nc\"),\n",
    "    decode_timedelta=True,\n",
    "    decode_times=time_coder,\n",
    ")\n",
    "\n",
    "## Monthly Domain Data\n",
    "monthly_data = xr.open_mfdataset(\n",
    "    os.path.join(case_output_dir, f\"*z*.nc\"),\n",
    "    decode_timedelta=True,\n",
    "    decode_times=time_coder,\n",
    ")\n",
    "\n",
    "## Image/Gif Output Directory\n",
    "if image_output_dir is None:\n",
    "    image_output_dir = os.path.join(CESM_output_dir, case_name, \"ocn\", \"cupid_images\")\n",
    "else:\n",
    "    image_output_dir = os.path.join(image_output_dir, case_name, \"ocn\", \"cupid_images\")\n",
    "if not os.path.exists(image_output_dir):\n",
    "    os.makedirs(image_output_dir)\n",
    "print(\"Image output directory is:\", image_output_dir)"
   ]
  },
  {
   "cell_type": "code",
   "execution_count": null,
   "id": "fdabce4b",
   "metadata": {},
   "outputs": [],
   "source": [
    "static_data"
   ]
  },
  {
   "cell_type": "markdown",
   "id": "69846e14",
   "metadata": {},
   "source": [
    "#### Static Information About the Domain"
   ]
  },
  {
   "cell_type": "code",
   "execution_count": null,
   "id": "de0a58dd",
   "metadata": {
    "tags": [
     "hide-input"
    ]
   },
   "outputs": [],
   "source": [
    "static_data"
   ]
  },
  {
   "cell_type": "markdown",
   "id": "7c8d2e78",
   "metadata": {},
   "source": [
    "#### Daily Surface Fields"
   ]
  },
  {
   "cell_type": "code",
   "execution_count": null,
   "id": "089cc9fb",
   "metadata": {
    "tags": [
     "hide-input"
    ]
   },
   "outputs": [],
   "source": [
    "sfc_data"
   ]
  },
  {
   "cell_type": "markdown",
   "id": "6aee9973",
   "metadata": {},
   "source": [
    "#### Full Domain Fields, Averaged Monthly"
   ]
  },
  {
   "cell_type": "code",
   "execution_count": null,
   "id": "eaf5f4a5",
   "metadata": {
    "tags": [
     "hide-input"
    ]
   },
   "outputs": [],
   "source": [
    "monthly_data"
   ]
  },
  {
   "cell_type": "markdown",
   "id": "4c30d729",
   "metadata": {},
   "source": [
    "## Look at Regional Domain"
   ]
  },
  {
   "cell_type": "code",
   "execution_count": null,
   "id": "f73d335c",
   "metadata": {
    "tags": [
     "hide-input"
    ]
   },
   "outputs": [],
   "source": [
    "%matplotlib inline"
   ]
  },
  {
   "cell_type": "code",
   "execution_count": null,
   "id": "c8314056",
   "metadata": {
    "tags": [
     "hide-input"
    ]
   },
   "outputs": [],
   "source": [
    "regional_utils.visualize_regional_domain(static_data)"
   ]
  },
  {
   "cell_type": "markdown",
   "id": "982a04eb",
   "metadata": {},
   "source": [
    "## Plotting Surface Fields"
   ]
  },
  {
   "cell_type": "code",
   "execution_count": null,
   "id": "fde64d3c",
   "metadata": {
    "tags": [
     "hide-input"
    ]
   },
   "outputs": [],
   "source": [
    "## Ploting basice state variables\n",
    "variables = [\"SSH\", \"tos\", \"sos\", \"speed\"]  # \"SSU\", \"SSV\"]\n",
    "for var in variables:\n",
    "    if var not in list(sfc_data.variables):\n",
    "        print(f\"Variable '{var}' not in given dataset. It will not be plotted.\")\n",
    "        variables.remove(var)"
   ]
  },
  {
   "cell_type": "code",
   "execution_count": null,
   "id": "9c0e8fb7",
   "metadata": {
    "tags": [
     "hide-input"
    ]
   },
   "outputs": [],
   "source": [
    "for var in variables:\n",
    "    long_name = sfc_data[var].long_name\n",
    "    short_name = var\n",
    "    time_bound = [\n",
    "        sfc_data[\"time_bounds\"].values[0][0].strftime(\"%Y-%m-%d\"),\n",
    "        sfc_data[\"time_bounds\"].values[-1][-1].strftime(\"%Y-%m-%d\"),\n",
    "    ]\n",
    "    units = sfc_data[var].units\n",
    "\n",
    "    central_longitude = float(\n",
    "        (static_data[\"geolon\"].max().values + static_data[\"geolon\"].min().values) / 2\n",
    "    )\n",
    "\n",
    "    fig = plt.figure(dpi=200, figsize=(8, 8))\n",
    "    ax1 = fig.add_subplot(\n",
    "        2, 2, 1, projection=ccrs.Mercator(central_longitude=central_longitude)\n",
    "    )\n",
    "    ax2 = fig.add_subplot(\n",
    "        2, 2, 2, projection=ccrs.Mercator(central_longitude=central_longitude)\n",
    "    )\n",
    "    ax3 = fig.add_subplot(\n",
    "        2, 2, 3, projection=ccrs.Mercator(central_longitude=central_longitude)\n",
    "    )\n",
    "    ax4 = fig.add_subplot(\n",
    "        2, 2, 4, projection=ccrs.Mercator(central_longitude=central_longitude)\n",
    "    )\n",
    "\n",
    "    annotate = True\n",
    "\n",
    "    mesh = regional_utils.plot_2D_latlon_field_plot(\n",
    "        sfc_data[var].mean(dim=\"time\"),\n",
    "        static_data,\n",
    "        fontsize=8,\n",
    "        title=f\"Avg {short_name}\",\n",
    "        cbar_label=f\"{units}\",\n",
    "        axis=ax3,\n",
    "        annotate=annotate,\n",
    "    )\n",
    "\n",
    "    colormap = mesh.get_cmap()\n",
    "    norm = mesh.norm\n",
    "    clim = mesh.get_clim()\n",
    "\n",
    "    regional_utils.plot_2D_latlon_field_plot(\n",
    "        sfc_data[var].isel(time=0),\n",
    "        static_data,\n",
    "        fontsize=8,\n",
    "        title=f\"Initial {short_name}\",\n",
    "        cbar_label=f\"{units}\",\n",
    "        axis=ax1,\n",
    "        colormap=colormap,\n",
    "        norm=norm,\n",
    "        clim=clim,\n",
    "        annotate=annotate,\n",
    "    )\n",
    "    regional_utils.plot_2D_latlon_field_plot(\n",
    "        sfc_data[var].isel(time=-1),\n",
    "        static_data,\n",
    "        fontsize=8,\n",
    "        title=f\"Final {short_name}\",\n",
    "        cbar_label=f\"{units}\",\n",
    "        axis=ax2,\n",
    "        colormap=colormap,\n",
    "        norm=norm,\n",
    "        clim=clim,\n",
    "        annotate=annotate,\n",
    "    )\n",
    "\n",
    "    regional_utils.plot_2D_latlon_field_plot(\n",
    "        sfc_data[var].std(dim=\"time\"),\n",
    "        static_data,\n",
    "        fontsize=8,\n",
    "        title=f\"StdDev {short_name}\",\n",
    "        cbar_label=f\"{units}\",\n",
    "        axis=ax4,\n",
    "        annotate=annotate,\n",
    "    )\n",
    "\n",
    "    fig.suptitle(f\"{long_name} from {time_bound[0]} to {time_bound[-1]}\", fontsize=18)\n",
    "\n",
    "    # fig.subplots_adjust(\n",
    "    # hspace=0.1,  # Increase vertical space between plots\n",
    "    # wspace=0.4,  # Increase horizontal space between plots\n",
    "    # )"
   ]
  },
  {
   "cell_type": "markdown",
   "id": "cc91c817",
   "metadata": {},
   "source": [
    "## 🚧 Add Slicing Function Here? 🚧"
   ]
  },
  {
   "cell_type": "markdown",
   "id": "dfcddbe9",
   "metadata": {},
   "source": [
    "## Area Weighted Averages and Timeseries"
   ]
  },
  {
   "cell_type": "code",
   "execution_count": null,
   "id": "a5561324",
   "metadata": {},
   "outputs": [],
   "source": [
    "regional_utils.plot_area_averaged_timeseries(\n",
    "    sfc_data, static_data, variables=[\"SSH\", \"tos\", \"sos\", \"speed\"]\n",
    ")"
   ]
  },
  {
   "cell_type": "code",
   "execution_count": null,
   "id": "4fe5a2c6",
   "metadata": {
    "tags": [
     "hide-input"
    ]
   },
   "outputs": [],
   "source": [
    "if not serial and cupid_run == 1:\n",
    "    client.shutdown()"
   ]
  }
 ],
 "metadata": {
  "kernelspec": {
   "display_name": "cupid-analysis",
   "language": "python",
   "name": "python3"
  },
  "language_info": {
   "codemirror_mode": {
    "name": "ipython",
    "version": 3
   },
   "file_extension": ".py",
   "mimetype": "text/x-python",
   "name": "python",
   "nbconvert_exporter": "python",
   "pygments_lexer": "ipython3",
   "version": "3.11.4"
  }
 },
 "nbformat": 4,
 "nbformat_minor": 5
}
