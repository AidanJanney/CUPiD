{
 "cells": [
  {
   "cell_type": "markdown",
   "id": "ebbe956a",
   "metadata": {},
   "source": [
    "## Regional Ocean: Basic Region and Surface Field Visualization"
   ]
  },
  {
   "cell_type": "markdown",
   "id": "8c75d984",
   "metadata": {},
   "source": [
    "Note: This notebook is meant to be run with the cupid-analysis kernel (see [CUPiD Installation](https://ncar.github.io/CUPiD/index.html#installing)). This notebook is often run by default as part of [CESM post-processing steps](https://ncar.github.io/CUPiD/run_cesm.html), but you can also run it manually."
   ]
  },
  {
   "cell_type": "code",
   "execution_count": null,
   "id": "e6f02d06",
   "metadata": {
    "tags": [
     "hide-input"
    ]
   },
   "outputs": [],
   "source": [
    "%load_ext autoreload\n",
    "%autoreload 2\n",
    "import os\n",
    "import warnings\n",
    "from glob import glob\n",
    "\n",
    "import cartopy\n",
    "import matplotlib.pyplot as plt\n",
    "import numpy as np\n",
    "import regional_utils as utils\n",
    "import xarray as xr\n",
    "from cartopy import crs as ccrs\n",
    "from cartopy import feature as cfeature"
   ]
  },
  {
   "cell_type": "code",
   "execution_count": null,
   "id": "885bf6f4",
   "metadata": {
    "tags": [
     "parameters",
     "hide-input"
    ]
   },
   "outputs": [],
   "source": [
    "CESM_output_dir = \"\"  # \"CROCODILE_tutorial_nwa12_MARBL\"\n",
    "case_name = \"\"  # \"/glade/campaign/cgd/oce/projects/CROCODILE/workshops/2025/Diagnostics/CESM_Output/\"\n",
    "\n",
    "## No timeseries or base case used in this notebook\n",
    "ts_dir = None\n",
    "base_case_output_dir = None\n",
    "base_case_name = None\n",
    "\n",
    "## As regional domains vary so much in purpose, simulation length, and extent, we don't want to assume a minimum duration\n",
    "## Thus, we ignore start and end dates and simply reduce/output over the whole time frame for all of the examples given.\n",
    "start_date = None  # \"0001-01-01\"\n",
    "end_date = None  # \"0101-01-01\"\n",
    "base_start_date = None  # \"0001-01-01\"\n",
    "base_end_date = None  # \"0101-01-01\"\n",
    "\n",
    "obs_data_dir = None\n",
    "\n",
    "savefigs = False\n",
    "fig_output_dir = None\n",
    "\n",
    "serial = False  # use dask LocalCluster\n",
    "\n",
    "lc_kwargs = {}"
   ]
  },
  {
   "cell_type": "code",
   "execution_count": null,
   "id": "468be415",
   "metadata": {
    "tags": [
     "hide-input"
    ]
   },
   "outputs": [],
   "source": [
    "# Parameters for testing (from default examples/regional_ocean/config.yml)\n",
    "case_name = \"CROCODILE_tutorial_nwa12_MARBL\"\n",
    "base_case_name = None\n",
    "CESM_output_dir = (\n",
    "    \"/glade/campaign/cgd/oce/projects/CROCODILE/workshops/2025/Diagnostics/CESM_Output/\"\n",
    ")\n",
    "start_date = \"2000-01-01\"\n",
    "end_date = \"2000-11-01\"\n",
    "base_start_date = \"\"\n",
    "base_end_date = \"\"\n",
    "lc_kwargs = {\"threads_per_worker\": 1}\n",
    "savefigs = True\n",
    "fig_output_dir = None\n",
    "serial = True\n",
    "\n",
    "subset_kwargs = {}"
   ]
  },
  {
   "cell_type": "code",
   "execution_count": null,
   "id": "2833b40c",
   "metadata": {
    "tags": [
     "hide-input"
    ]
   },
   "outputs": [],
   "source": [
    "OUTDIR = os.path.join(CESM_output_dir, case_name, \"ocn\", \"hist\")\n",
    "print(\"Output directory is:\", OUTDIR)"
   ]
  },
  {
   "cell_type": "markdown",
   "id": "2bf72fec",
   "metadata": {},
   "source": [
    "## Load in Model Output and Look at Variables/Meta Data\n",
    "\n",
    "#### Default File Structure in MOM6\n",
    "This file structure will be different if you modify the diag_table.\n",
    "\n",
    "- **static data**: contains horizontal grid, vertical grid, land/sea mask, bathymetry, lat/lon information\n",
    "- **sfc data**: daily output of 2D surface fields (salinity, temp, SSH, velocities)\n",
    "- **monthly data**: averaged monthly output of the full 3D domain, regridded to a predefined grid (MOM6 default is WOA, see more below)\n",
    "- **native data**: averaged monthly output of ocean state and atmospheric fluxes on the native MOM6 grid"
   ]
  },
  {
   "cell_type": "code",
   "execution_count": null,
   "id": "9e3ca8f8",
   "metadata": {
    "tags": [
     "hide-input"
    ]
   },
   "outputs": [],
   "source": [
    "# Xarray time decoding things\n",
    "time_coder = xr.coders.CFDatetimeCoder(use_cftime=True)\n",
    "\n",
    "## Static data includes hgrid, vgrid, bathymetry, land/sea mask\n",
    "static_data = xr.open_mfdataset(\n",
    "    os.path.join(OUTDIR, f\"*h.static.nc\"),\n",
    "    decode_timedelta=True,\n",
    "    decode_times=time_coder,\n",
    "    engine=\"netcdf4\",\n",
    ")\n",
    "\n",
    "## Surface Data\n",
    "sfc_data = xr.open_mfdataset(\n",
    "    os.path.join(OUTDIR, f\"*h.sfc*.nc\"),\n",
    "    decode_timedelta=True,\n",
    "    decode_times=time_coder,\n",
    "    engine=\"netcdf4\",\n",
    ")\n",
    "\n",
    "## Monthly Full Domain Data\n",
    "## Not used in this notebook by default\n",
    "monthly_data = xr.open_mfdataset(\n",
    "    os.path.join(OUTDIR, f\"*h.z*.nc\"),\n",
    "    decode_timedelta=True,\n",
    "    decode_times=time_coder,\n",
    "    engine=\"netcdf4\",\n",
    ")\n",
    "\n",
    "## Monthly Full Domain Data, on native MOM6 grid\n",
    "## Not used in this notebook by default\n",
    "native_data = xr.open_mfdataset(\n",
    "    os.path.join(OUTDIR, f\"*h.native*.nc\"),\n",
    "    decode_timedelta=True,\n",
    "    decode_times=time_coder,\n",
    "    engine=\"netcdf4\",\n",
    ")\n",
    "\n",
    "## Image/Gif Output Directory\n",
    "if fig_output_dir is None:\n",
    "    image_output_dir = os.path.join(\n",
    "        \"/glade/derecho/scratch/\",\n",
    "        os.environ[\"USER\"],\n",
    "        \"archive\",\n",
    "        case_name,\n",
    "        \"ocn\",\n",
    "        \"cupid_images\",\n",
    "    )\n",
    "else:\n",
    "    image_output_dir = os.path.join(fig_output_dir, case_name, \"ocn\", \"cupid_images\")\n",
    "if not os.path.exists(image_output_dir):\n",
    "    os.makedirs(image_output_dir)\n",
    "print(\"Image output directory is:\", image_output_dir)"
   ]
  },
  {
   "cell_type": "code",
   "execution_count": null,
   "id": "2889a3ec",
   "metadata": {
    "tags": [
     "hide-input"
    ]
   },
   "outputs": [],
   "source": [
    "## Apply time boundaries\n",
    "if start_date is not None and end_date is not None:\n",
    "    import cftime\n",
    "\n",
    "    calendar = sfc_data.time.encoding.get(\"calendar\", \"standard\")\n",
    "\n",
    "    calendar_map = {\n",
    "        \"gregorian\": cftime.DatetimeProlepticGregorian,\n",
    "        \"noleap\": cftime.DatetimeNoLeap,\n",
    "    }\n",
    "\n",
    "    CFTime = calendar_map.get(calendar, cftime.DatetimeGregorian)\n",
    "    y, m, d = [int(i) for i in start_date.split(\"-\")]\n",
    "    start_date_time = CFTime(y, m, d)\n",
    "    y, m, d = [int(i) for i in end_date.split(\"-\")]\n",
    "    end_date_time = CFTime(y, m, d)\n",
    "\n",
    "    print(\n",
    "        f\"Applying time range from start_date: {start_date_time} and end_date: {end_date_time}.\"\n",
    "    )\n",
    "\n",
    "    sfc_data = sfc_data.sel(time=slice(start_date_time, end_date_time))\n",
    "    monthly_data = monthly_data.sel(time=slice(start_date_time, end_date_time))\n",
    "    native_data = native_data.sel(time=slice(start_date_time, end_date_time))\n",
    "\n",
    "sfc_time_bounds = [\n",
    "    sfc_data[\"time\"].isel(time=0).compute().item(),\n",
    "    sfc_data[\"time\"].isel(time=-1).compute().item(),\n",
    "]\n",
    "monthly_time_bounds = [\n",
    "    monthly_data[\"time\"].isel(time=0).compute().item(),\n",
    "    monthly_data[\"time\"].isel(time=-1).compute().item(),\n",
    "]\n",
    "\n",
    "print(f\"Surface Data Time Bounds: {sfc_time_bounds[0]} to {sfc_time_bounds[-1]}\")\n",
    "print(\n",
    "    f\"Monthly Data Time Bounds: {monthly_time_bounds[0]} to {monthly_time_bounds[-1]}\"\n",
    ")"
   ]
  },
  {
   "cell_type": "markdown",
   "id": "69846e14",
   "metadata": {},
   "source": [
    "#### **`*mom6.h.static*.nc`**: static information about the domain\n",
    "The MOM6 grid uses an Arakawa C grid which staggers velocities and tracers (temp, salinity, SSH, etc.). See [this MOM6 documentation](https://mom6.readthedocs.io/en/main/api/generated/pages/Discrete_Grids.html#horizontal-grids) for more information.\n",
    "\n",
    "##### Some variables of interest:\n",
    "- **`geolon`/`geolat`** (and c/u/v variants): specifies the true lat/lon of each cell. We use these variables for plotting and placing the data geographically.\n",
    "- **`wet`** (and c/u/v variants): the land-sea mask that specifies if a given point is on land or sea. \n",
    "- **`areacello`** (and bu,cu,cv variants): area of grid cell (important for taking area-weighted averages)\n",
    "- **`deptho`**: depth of ocean floor - bathymetry"
   ]
  },
  {
   "cell_type": "code",
   "execution_count": null,
   "id": "de0a58dd",
   "metadata": {
    "tags": [
     "hide-input"
    ]
   },
   "outputs": [],
   "source": [
    "static_data"
   ]
  },
  {
   "cell_type": "markdown",
   "id": "33b981ee",
   "metadata": {},
   "source": [
    "<div class=\"alert alert-info\">\n",
    "<strong>Indexing and the Horizontal C-grid in MOM6</strong>\n",
    "\n",
    "When accessing the output, we need to pay particular attention to which variables we are accessing and which coordinates correspond to their position on the grid. This also affects plotting and spatial averages (as we will see in this notebook and others). \n",
    "- `xh`/`yh`: index the center of the cell in `x` and `y` respectively\n",
    "- `xq`/`yq`: index the corner of the cell in `x` and `y` respectively\n",
    "  \n",
    "<strong>Coordinates:</strong>\n",
    "- (`xh`,`yh`): center of cell, where tracers are. Plot with `geolon`,`geolat`.\n",
    "- (`xh`,`yq`): middle of horizontal interface, where meridional (v) velocity is. Plot with `geolon_v`,`geolat_v`.\n",
    "- (`xq`,`yh`): middle of vertical interface, where zonal (u) velocity is. Plot with `geolon_u`,`geolat_u`.\n",
    "- (`xq`,`yq`): corners between cells, where vorticity is.\n",
    "\n",
    "</div>"
   ]
  },
  {
   "cell_type": "markdown",
   "id": "7c8d2e78",
   "metadata": {},
   "source": [
    "#### **`*h.sfc*.nc`**: daily surface fields\n",
    "The surface fields are especially useful for diagnosing short runs. This is not only the most dynamic field for short runs, but it also is the only file that stores daily results (by default). A lot of the diagnostics in this notebook use surface fields because we are able to take time averages and look at time series for any run longer than a couple of days (unlike the full 3D domain fields which are averaged over each month).\n",
    "\n",
    "##### Some variables of interest:\n",
    "- `SSH`: sea surface height\n",
    "- `tos`: temperature of ocean surface\n",
    "- `sos`: salinity of ocean surface\n",
    "- `speed`: magnitude of speed (considered a tracer, at the center of a cell)\n",
    "- `SSU` and `SSV`: zonal and meridional velocity at the surface"
   ]
  },
  {
   "cell_type": "code",
   "execution_count": null,
   "id": "089cc9fb",
   "metadata": {
    "tags": [
     "hide-input"
    ]
   },
   "outputs": [],
   "source": [
    "sfc_data"
   ]
  },
  {
   "cell_type": "markdown",
   "id": "6aee9973",
   "metadata": {},
   "source": [
    "#### **`*h.z*.nc`**: fields for the full 3D domain, averaged monthly, regridded vertically\n",
    "These are vertically remapped diagnostics files that capture the full 3D domain, but they only output monthly averages. For runs less than a month, they will average over the full length of the run. \n",
    "\n",
    "By default, this diagnostics MOM6 regrids output to the vertical grid from the 2009 World Ocean Atlas (35 layers down to 6750 m). \n",
    "\n",
    "##### Some variables of interest:\n",
    "- `uo` and `vo`: zonal and meridional velocity\n",
    "- `thetao`: potential temperature\n",
    "- `so`: salinity\n",
    "- `vmo` and `umo`: zonal and meridional mass transport \n",
    "- `volcello`: volume of each cell (important for averaging over a volume of the domain)\n",
    "\n",
    "**Note:** now there are two `z` coordinates. `z_i` is the vertical interface between cells and `z_l` identifies the depth of the cell centers. "
   ]
  },
  {
   "cell_type": "code",
   "execution_count": null,
   "id": "eaf5f4a5",
   "metadata": {
    "tags": [
     "hide-input"
    ]
   },
   "outputs": [],
   "source": [
    "monthly_data"
   ]
  },
  {
   "cell_type": "markdown",
   "id": "e5202058",
   "metadata": {},
   "source": [
    "<div class=\"alert alert-info\">\n",
    "<strong>Note on Vertically Remapped Diagnostics in MOM6</strong>\n",
    "\n",
    "The output found in `*mom6.h.z.*.nc` files is vertically remapped by MOM6. By default, this output is on the 2009 World Ocean Atlas grid. You can regrid the output after runtime (see packages like [xgcm](https://xgcm.readthedocs.io/en/latest/index.html) and and [xESMF](https://xesmf.readthedocs.io/en/stable/)), but if you know a vertical grid that you need output on, MOM6 can handle the interpolation automatically. \n",
    "\n",
    "The vertical grid settings for a particular CESM run can be found in `MOM_parameter_doc.all` in the CESM case run directory. See [this MOM6 documentation](https://mom6.readthedocs.io/en/main/api/generated/pages/Diagnostics.html#vertically-remapped-diagnostics) for more information.\n",
    "\n",
    "</div>\n"
   ]
  },
  {
   "cell_type": "markdown",
   "id": "6eaf7bb1",
   "metadata": {},
   "source": [
    "#### **`*h.native*.nc`**: fields for the full 3D domain, averaged monthly, on native MOM6 grid.\n",
    "These outputs are on the MOM6 native grid. From the [MOM6 Documentation](https://mom6.readthedocs.io/en/main/api/generated/pages/Diagnostics.html#native-diagnostics):\n",
    "> Since the model can be run in arbitrary coordinates, say in hybrid-coordinate mode, then native-space diagnostics can be potentially confusing. Native diagnostics are useful when examining exactly what the model is doing\n",
    "\n",
    "The default native file (as configured by CESM) also outputs useful global averages and atmospheric variables. \n",
    "\n",
    "##### Some variables of interest:\n",
    "- `soga`: global mean ocean salinity\n",
    "- `thetaoga`: global mean ocean potential temperature\n",
    "- `tauuo` and `tauvo`: zonal and meridional downward stress from the atmospheric forcing\n",
    "- `hfds`: net downward surface heat flux\n",
    "  - `hf*`: various individual heat fluxes into the ocean\n",
    "- `friver`: freshwater flux from rivers"
   ]
  },
  {
   "cell_type": "markdown",
   "id": "4c30d729",
   "metadata": {},
   "source": [
    "## Look at Regional Domain"
   ]
  },
  {
   "cell_type": "code",
   "execution_count": null,
   "id": "8a255ad1",
   "metadata": {
    "tags": [
     "hide-input"
    ]
   },
   "outputs": [],
   "source": [
    "%matplotlib inline"
   ]
  },
  {
   "cell_type": "code",
   "execution_count": null,
   "id": "c8314056",
   "metadata": {
    "tags": [
     "hide-input"
    ]
   },
   "outputs": [],
   "source": [
    "utils.visualizeRegionalDomain(static_data)"
   ]
  },
  {
   "cell_type": "code",
   "execution_count": null,
   "id": "9c0e8fb7",
   "metadata": {
    "tags": [
     "hide-input"
    ]
   },
   "outputs": [],
   "source": [
    "## Ploting basic state variables\n",
    "variables = [\"SSH\", \"tos\", \"sos\", \"speed\", \"SSU\", \"SSV\"]\n",
    "dataset = sfc_data\n",
    "stats = True\n",
    "time_bounds = (\n",
    "    dataset[\"time\"][0].compute().item(),\n",
    "    dataset[\"time\"][-1].compute().item(),\n",
    ")\n",
    "\n",
    "\n",
    "for var in variables:\n",
    "    if var not in list(dataset.variables):\n",
    "        print(f\"Variable '{var}' not in given dataset. It will not be plotted.\")\n",
    "        variables.remove(var)\n",
    "\n",
    "\n",
    "print(f\"Taking mean and std dev from {time_bounds[0]} to {time_bounds[-1]}\")\n",
    "for var in variables:\n",
    "    field = dataset[var]\n",
    "\n",
    "    coords = utils.chooseGeoCoords(field.dims)\n",
    "    areacello = utils.chooseAreacello(field.dims)\n",
    "\n",
    "    mean = field.mean(dim=\"time\", skipna=True).compute()\n",
    "    std = field.std(dim=\"time\", skipna=True).compute()\n",
    "    mean.attrs = field.attrs\n",
    "    std.attrs = field.attrs\n",
    "    mean.attrs[\"long_name\"] = f\"Mean {field.long_name}\"\n",
    "    std.attrs[\"long_name\"] = f\"Std Dev {field.long_name}\"\n",
    "\n",
    "    utils.plotLatLonField(\n",
    "        mean,\n",
    "        latitude=static_data[coords[\"latitude\"]],\n",
    "        longitude=static_data[coords[\"longitude\"]],\n",
    "        stats=stats,\n",
    "        area_weights=static_data[areacello],\n",
    "        save=savefigs,\n",
    "        save_path=image_output_dir,\n",
    "    )\n",
    "    plt.show()\n",
    "\n",
    "    utils.plotLatLonField(\n",
    "        std,\n",
    "        latitude=static_data[coords[\"latitude\"]],\n",
    "        longitude=static_data[coords[\"longitude\"]],\n",
    "        stats=stats,\n",
    "        area_weights=static_data[areacello],\n",
    "        save=savefigs,\n",
    "        save_path=image_output_dir,\n",
    "    )\n",
    "    plt.show()"
   ]
  },
  {
   "cell_type": "markdown",
   "id": "dfcddbe9",
   "metadata": {},
   "source": [
    "## Area Weighted Averages and Timeseries"
   ]
  },
  {
   "cell_type": "code",
   "execution_count": null,
   "id": "a5561324",
   "metadata": {
    "tags": [
     "hide-input"
    ]
   },
   "outputs": [],
   "source": [
    "variables = [\"SSH\", \"tos\", \"sos\", \"speed\", \"SSU\", \"SSV\"]\n",
    "dataset = sfc_data\n",
    "for var in variables:\n",
    "    field = dataset[var]\n",
    "    areacello_var = utils.chooseAreacello(field.dims)\n",
    "\n",
    "    utils.plotAvgTimseries(\n",
    "        dataset[var],\n",
    "        static_data[areacello_var],\n",
    "        save=savefigs,\n",
    "        save_path=image_output_dir,\n",
    "    )"
   ]
  }
 ],
 "metadata": {
  "kernelspec": {
   "display_name": "Python [conda env:cupid-analysis]",
   "language": "python",
   "name": "conda-env-cupid-analysis-py"
  },
  "language_info": {
   "codemirror_mode": {
    "name": "ipython",
    "version": 3
   },
   "file_extension": ".py",
   "mimetype": "text/x-python",
   "name": "python",
   "nbconvert_exporter": "python",
   "pygments_lexer": "ipython3",
   "version": "3.11.4"
  }
 },
 "nbformat": 4,
 "nbformat_minor": 5
}
