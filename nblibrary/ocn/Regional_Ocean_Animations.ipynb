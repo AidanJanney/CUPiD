{
 "cells": [
  {
   "cell_type": "markdown",
   "id": "55cde6ea",
   "metadata": {},
   "source": [
    "## Regional Ocean: Animations of Surface Fields"
   ]
  },
  {
   "cell_type": "code",
   "execution_count": null,
   "id": "d4f4316f",
   "metadata": {
    "tags": [
     "hide-input"
    ]
   },
   "outputs": [],
   "source": [
    "%load_ext autoreload\n",
    "%autoreload 2\n",
    "import xarray as xr\n",
    "import os\n",
    "from IPython.display import HTML\n",
    "\n",
    "import regional_utils as utils"
   ]
  },
  {
   "cell_type": "code",
   "execution_count": null,
   "id": "a624abbf",
   "metadata": {
    "tags": [
     "parameters",
     "hide-input"
    ]
   },
   "outputs": [],
   "source": [
    "CESM_output_dir = \"\"  # \"CROCODILE_tutorial_nwa12_MARBL\"\n",
    "case_name = \"\"  # \"/glade/campaign/cgd/oce/projects/CROCODILE/workshops/2025/Diagnostics/CESM_Output/\"\n",
    "\n",
    "## No timeseries or base case used in this notebook\n",
    "ts_dir = None\n",
    "base_case_output_dir = None\n",
    "base_case_name = None\n",
    "\n",
    "## As regional domains vary so much in purpose, simulation length, and extent, we don't want to assume a minimum duration\n",
    "## Thus, we ignore start and end dates and simply reduce/output over the whole time frame for all of the examples given.\n",
    "start_date = None  # \"0001-01-01\"\n",
    "end_date = None  # \"0101-01-01\"\n",
    "base_start_date = None  # \"0001-01-01\"\n",
    "base_end_date = None  # \"0101-01-01\"\n",
    "\n",
    "obs_data_dir = None\n",
    "\n",
    "savefigs = False\n",
    "fig_output_dir = None\n",
    "\n",
    "serial = False  # use dask LocalCluster\n",
    "\n",
    "lc_kwargs = {}"
   ]
  },
  {
   "cell_type": "code",
   "execution_count": null,
   "id": "62d5ee4c",
   "metadata": {},
   "outputs": [],
   "source": [
    "# Parameters\n",
    "case_name = \"CROCODILE_tutorial_nwa12_MARBL\"\n",
    "base_case_name = \"CROCODILE_tutorial_nwa12_MARBL\"\n",
    "CESM_output_dir = \"/glade/campaign/cesm/development/cross-wg/diagnostic_framework/CESM_output_for_testing/\"\n",
    "start_date = \"2000-01-01\"\n",
    "end_date = \"2000-11-01\"\n",
    "base_start_date = \"\"\n",
    "base_end_date = \"\"\n",
    "ts_dir = \"/glade/derecho/scratch/ajanney/archive/\"\n",
    "lc_kwargs = {\"threads_per_worker\": 1}\n",
    "serial = True\n",
    "savefigs = True\n",
    "fig_output_dir = None\n",
    "subset_kwargs = {}\n",
    "product = \"/glade/work/ajanney/CUPiD/examples/regional_ocean/computed_notebooks//ocn/Regional_Ocean_Report_Card.ipynb\""
   ]
  },
  {
   "cell_type": "code",
   "execution_count": null,
   "id": "5c1e74a5",
   "metadata": {
    "tags": [
     "hide-input"
    ]
   },
   "outputs": [],
   "source": [
    "OUTDIR = f\"{CESM_output_dir}/{case_name}/ocn/hist/\"\n",
    "print(\"Output directory is:\", OUTDIR)"
   ]
  },
  {
   "cell_type": "markdown",
   "id": "3f18bc50",
   "metadata": {},
   "source": [
    "## Open Datasets and Define Paths"
   ]
  },
  {
   "cell_type": "code",
   "execution_count": null,
   "id": "dca031d0",
   "metadata": {
    "tags": [
     "hide-input"
    ]
   },
   "outputs": [],
   "source": [
    "case_output_dir = os.path.join(CESM_output_dir, case_name, \"ocn\", \"hist\")\n",
    "\n",
    "# Xarray time decoding things\n",
    "time_coder = xr.coders.CFDatetimeCoder(use_cftime=True)\n",
    "\n",
    "## Static data includes hgrid, vgrid, bathymetry, land/sea mask\n",
    "static_data = xr.open_mfdataset(\n",
    "    os.path.join(case_output_dir, f\"*static.nc\"),\n",
    "    decode_timedelta=True,\n",
    "    decode_times=time_coder,\n",
    ")\n",
    "\n",
    "## Surface Data\n",
    "sfc_data = xr.open_mfdataset(\n",
    "    os.path.join(case_output_dir, f\"*sfc*.nc\"),\n",
    "    decode_timedelta=True,\n",
    "    decode_times=time_coder,\n",
    ")\n",
    "\n",
    "## Monthly Domain Data\n",
    "# monthly_data = xr.open_mfdataset(\n",
    "#     os.path.join(case_output_dir, f\"*z*.nc\"),\n",
    "#     decode_timedelta=True,\n",
    "#     decode_times=time_coder,\n",
    "# )\n",
    "\n",
    "## Image/Gif Output Directory\n",
    "if fig_output_dir is None:\n",
    "    image_output_dir = os.path.join(\n",
    "        \"/glade/derecho/scratch/\",\n",
    "        os.environ[\"USER\"],\n",
    "        \"archive\",\n",
    "        case_name,\n",
    "        \"ocn\",\n",
    "        \"cupid_images\",\n",
    "    )\n",
    "else:\n",
    "    image_output_dir = os.path.join(fig_output_dir, case_name, \"ocn\", \"cupid_images\")\n",
    "if not os.path.exists(image_output_dir):\n",
    "    os.makedirs(image_output_dir)\n",
    "print(\"Image output directory is:\", image_output_dir)"
   ]
  },
  {
   "cell_type": "code",
   "execution_count": null,
   "id": "6cd0bf30",
   "metadata": {},
   "outputs": [],
   "source": [
    "## Apply time boundaries\n",
    "if len(start_date) > 0 and len(end_date) > 0:\n",
    "    import cftime\n",
    "\n",
    "    calendar = sfc_data.time.encoding.get(\"calendar\", \"standard\")\n",
    "\n",
    "    calendar_map = {\n",
    "        \"gregorian\": cftime.DatetimeProlepticGregorian,\n",
    "        \"noleap\": cftime.DatetimeNoLeap,\n",
    "    }\n",
    "\n",
    "    CFTime = calendar_map.get(calendar, cftime.DatetimeGregorian)\n",
    "    y, m, d = [int(i) for i in start_date.split(\"-\")]\n",
    "    start_date_time = CFTime(y, m, d)\n",
    "    y, m, d = [int(i) for i in end_date.split(\"-\")]\n",
    "    end_date_time = CFTime(y, m, d)\n",
    "\n",
    "    sfc_data = sfc_data.sel(time=slice(start_date_time, end_date_time))"
   ]
  },
  {
   "cell_type": "markdown",
   "id": "d77ec5a6",
   "metadata": {},
   "source": [
    "# The GIF!\n"
   ]
  },
  {
   "cell_type": "code",
   "execution_count": null,
   "id": "5ad8854f",
   "metadata": {},
   "outputs": [],
   "source": [
    "variables = [\"SSH\", \"tos\"]  # \"tos\", \"sos\", \"speed\", \"SSV\", \"SSU\"]\n",
    "dataset = sfc_data\n",
    "if dataset[\"time\"].size > 60:  # only gen gifs for 60 days at a time\n",
    "    dataset = dataset.isel(time=slice(0, 60))\n",
    "for gif_variable in variables:\n",
    "\n",
    "    field = dataset[gif_variable]\n",
    "\n",
    "    coords = utils.chooseGeoCoords(field.dims)\n",
    "    areacello = utils.chooseAreacello(field.dims)\n",
    "\n",
    "    anim = utils.create2DFieldAnimation(\n",
    "        field,\n",
    "        latitude=static_data[coords[\"latitude\"]],\n",
    "        longitude=static_data[coords[\"longitude\"]],\n",
    "        iter_dim=\"time\",\n",
    "        interval=150,\n",
    "        save=savefigs,\n",
    "        save_path=image_output_dir,\n",
    "    )"
   ]
  },
  {
   "cell_type": "code",
   "execution_count": null,
   "id": "090363bd",
   "metadata": {},
   "outputs": [],
   "source": [
    "from matplotlib import rcParams\n",
    "\n",
    "rcParams[\"animation.embed_limit\"] = (\n",
    "    200 * 1024 * 1024\n",
    ")  # constrains max size of HTML to be displayed in notebook\n",
    "\n",
    "HTML(anim.to_jshtml())"
   ]
  }
 ],
 "metadata": {
  "kernelspec": {
   "display_name": "Python [conda env:cupid-analysis]",
   "language": "python",
   "name": "conda-env-cupid-analysis-py"
  },
  "language_info": {
   "codemirror_mode": {
    "name": "ipython",
    "version": 3
   },
   "file_extension": ".py",
   "mimetype": "text/x-python",
   "name": "python",
   "nbconvert_exporter": "python",
   "pygments_lexer": "ipython3",
   "version": "3.11.4"
  }
 },
 "nbformat": 4,
 "nbformat_minor": 5
}
