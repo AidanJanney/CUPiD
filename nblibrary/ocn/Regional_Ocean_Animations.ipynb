{
 "cells": [
  {
   "cell_type": "markdown",
   "id": "55cde6ea",
   "metadata": {},
   "source": [
    "## Regional Ocean: Animations of Surface Fields"
   ]
  },
  {
   "cell_type": "code",
   "execution_count": null,
   "id": "d4f4316f",
   "metadata": {
    "tags": [
     "hide-input"
    ]
   },
   "outputs": [],
   "source": [
    "import xarray as xr\n",
    "import os\n",
    "import regional_utils\n",
    "from IPython.display import HTML"
   ]
  },
  {
   "cell_type": "code",
   "execution_count": null,
   "id": "d54c9bc4",
   "metadata": {
    "tags": [
     "parameters",
     "hide-input"
    ]
   },
   "outputs": [],
   "source": [
    "CESM_output_dir = \"\"  # /glade/u/home/manishrv/scratch/archive/\" # /glade/derecho/scratch/ajanney/archive/\"  \"\n",
    "case_name = \"\"  # \"gustavo-glorys-2\"# \"CrocCaribGio\"\n",
    "\n",
    "ts_dir = None  # \"/glade/campaign/cesm/development/cross-wg/diagnostic_framework/CESM_output_for_testing\"\n",
    "base_case_output_dir = None  # None => use CESM_output_dir\n",
    "base_case_name = None  # \"b.e23_alpha17f.BLT1850.ne30_t232.092\"\n",
    "\n",
    "## As regional domains will vary so much in application, we don't want to assume a minimum duration\n",
    "## Thus, we can ignore start and end dates and simply reduce over the whole time frame.\n",
    "start_date = None  # \"0001-01-01\"\n",
    "end_date = None  # \"0101-01-01\"\n",
    "base_start_date = None  # \"0001-01-01\"\n",
    "base_end_date = None  # \"0101-01-01\"\n",
    "\n",
    "obs_data_dir = None  # \"/glade/campaign/cesm/development/cross-wg/diagnostic_framework/CUPiD_obs_data\"\n",
    "\n",
    "serial = True  # use dask LocalCluster\n",
    "\n",
    "savefigs = False\n",
    "image_output_dir = None\n",
    "\n",
    "lc_kwargs = {}"
   ]
  },
  {
   "cell_type": "code",
   "execution_count": null,
   "id": "1c22fa9d",
   "metadata": {},
   "outputs": [],
   "source": [
    "CESM_output_dir = \"/glade/u/home/manishrv/scratch/archive/\"  # /glade/derecho/scratch/ajanney/archive/\"  \"\n",
    "case_name = \"gustavo-glorys-2\"  # \"CrocCaribGio\"\n",
    "\n",
    "ts_dir = None  # \"/glade/campaign/cesm/development/cross-wg/diagnostic_framework/CESM_output_for_testing\"\n",
    "base_case_output_dir = None  # None => use CESM_output_dir\n",
    "base_case_name = None  # \"b.e23_alpha17f.BLT1850.ne30_t232.092\"\n",
    "\n",
    "## As regional domains will vary so much in application, we don't want to assume a minimum duration\n",
    "## Thus, we can ignore start and end dates and simply reduce over the whole time frame.\n",
    "start_date = None  # \"0001-01-01\"\n",
    "end_date = None  # \"0101-01-01\"\n",
    "base_start_date = None  # \"0001-01-01\"\n",
    "base_end_date = None  # \"0101-01-01\"\n",
    "\n",
    "obs_data_dir = None  # \"/glade/campaign/cesm/development/cross-wg/diagnostic_framework/CUPiD_obs_data\"\n",
    "\n",
    "serial = False  # use dask LocalCluster\n",
    "\n",
    "savefigs = False\n",
    "image_output_dir = \"/glade/derecho/scratch/ajanney/archive\"  # if None, will be created in case directory\n",
    "\n",
    "lc_kwargs = {}"
   ]
  },
  {
   "cell_type": "code",
   "execution_count": null,
   "id": "5c1e74a5",
   "metadata": {
    "tags": [
     "hide-input"
    ]
   },
   "outputs": [],
   "source": [
    "OUTDIR = f\"{CESM_output_dir}/{case_name}/ocn/hist/\"\n",
    "print(\"Output directory is:\", OUTDIR)"
   ]
  },
  {
   "cell_type": "code",
   "execution_count": null,
   "id": "ca60d275",
   "metadata": {
    "tags": [
     "hide-input"
    ]
   },
   "outputs": [],
   "source": [
    "# When running interactively, cupid_run should be set to 0\n",
    "# this will spin-up a DASK cluster in the notebook, it may need a few mintues\n",
    "\n",
    "cupid_run = 1\n",
    "\n",
    "if cupid_run == 1:\n",
    "\n",
    "    from dask.distributed import Client, LocalCluster\n",
    "\n",
    "    # Spin up cluster (if running in parallel)\n",
    "    client = None\n",
    "    if not serial:\n",
    "        cluster = LocalCluster(**lc_kwargs)\n",
    "        client = Client(cluster)\n",
    "\n",
    "else:\n",
    "\n",
    "    from dask.distributed import Client\n",
    "    from dask_jobqueue import PBSCluster\n",
    "\n",
    "    # Make sure to run on Casper or another system that is able\n",
    "    # to allocate cores and not just nodes\n",
    "    cluster = PBSCluster(\n",
    "        cores=12,\n",
    "        processes=12,\n",
    "        memory=\"120GB\",\n",
    "        account=\"P93300012\",\n",
    "        queue=\"casper\",\n",
    "        walltime=\"02:00:00\",\n",
    "    )\n",
    "\n",
    "    client = Client(cluster)\n",
    "\n",
    "    cluster.scale(1)\n",
    "\n",
    "    print(cluster)\n",
    "\n",
    "client"
   ]
  },
  {
   "cell_type": "markdown",
   "id": "3f18bc50",
   "metadata": {},
   "source": [
    "## Open Datasets and Define Paths"
   ]
  },
  {
   "cell_type": "code",
   "execution_count": null,
   "id": "dca031d0",
   "metadata": {
    "tags": [
     "hide-input"
    ]
   },
   "outputs": [],
   "source": [
    "case_output_dir = os.path.join(CESM_output_dir, case_name, \"ocn\", \"hist\")\n",
    "\n",
    "# Xarray time decoding things\n",
    "time_coder = xr.coders.CFDatetimeCoder(use_cftime=True)\n",
    "\n",
    "## Static data includes hgrid, vgrid, bathymetry, land/sea mask\n",
    "static_data = xr.open_mfdataset(\n",
    "    os.path.join(case_output_dir, f\"*static.nc\"),\n",
    "    decode_timedelta=True,\n",
    "    decode_times=time_coder,\n",
    ")\n",
    "\n",
    "## Surface Data\n",
    "sfc_data = xr.open_mfdataset(\n",
    "    os.path.join(case_output_dir, f\"*sfc*.nc\"),\n",
    "    decode_timedelta=True,\n",
    "    decode_times=time_coder,\n",
    ")\n",
    "\n",
    "## Monthly Domain Data\n",
    "monthly_data = xr.open_mfdataset(\n",
    "    os.path.join(case_output_dir, f\"*z*.nc\"),\n",
    "    decode_timedelta=True,\n",
    "    decode_times=time_coder,\n",
    ")\n",
    "\n",
    "## Image/Gif Output Directory\n",
    "if image_output_dir is None:\n",
    "    image_output_dir = os.path.join(CESM_output_dir, case_name, \"ocn\", \"cupid_images\")\n",
    "else:\n",
    "    image_output_dir = os.path.join(image_output_dir, case_name, \"ocn\", \"cupid_images\")\n",
    "if not os.path.exists(image_output_dir):\n",
    "    os.makedirs(image_output_dir)\n",
    "print(\"Image output directory is:\", image_output_dir)"
   ]
  },
  {
   "cell_type": "markdown",
   "id": "d77ec5a6",
   "metadata": {},
   "source": [
    "# The GIF!\n"
   ]
  },
  {
   "cell_type": "code",
   "execution_count": null,
   "id": "5ad8854f",
   "metadata": {},
   "outputs": [],
   "source": [
    "# %%capture --no-stdout --no-stderr\n",
    "variables = [\"SSH\", \"tos\", \"sos\", \"speed\"]  # \"SSV\", \"SSU\"]\n",
    "for gif_variable in variables:  # \"SSV\", \"SSU\"] --- IGNORE ---\n",
    "    # gif_variable = \"speed\" --- IGNORE ---\n",
    "    timeseries_2D_field = sfc_data[gif_variable].isel(time=slice(0, 5))\n",
    "\n",
    "    anim = regional_utils.create_2d_field_animation(\n",
    "        timeseries_2D_field, static_data, interval=150\n",
    "    )\n",
    "    anim.save(os.path.join(image_output_dir, gif_variable + \".gif\"), writer=\"ffmpeg\")\n",
    "\n",
    "    # HTML(anim.to_jshtml())"
   ]
  },
  {
   "cell_type": "code",
   "execution_count": null,
   "id": "e1f45cd1",
   "metadata": {},
   "outputs": [],
   "source": []
  }
 ],
 "metadata": {
  "kernelspec": {
   "display_name": "cupid-analysis",
   "language": "python",
   "name": "python3"
  },
  "language_info": {
   "codemirror_mode": {
    "name": "ipython",
    "version": 3
   },
   "file_extension": ".py",
   "mimetype": "text/x-python",
   "name": "python",
   "nbconvert_exporter": "python",
   "pygments_lexer": "ipython3",
   "version": "3.11.4"
  }
 },
 "nbformat": 4,
 "nbformat_minor": 5
}
