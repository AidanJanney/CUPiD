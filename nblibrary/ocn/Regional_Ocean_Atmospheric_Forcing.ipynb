{
 "cells": [
  {
   "cell_type": "markdown",
   "id": "55cde6ea",
   "metadata": {},
   "source": [
    "## Regional Ocean: Animations of Surface Fields"
   ]
  },
  {
   "cell_type": "code",
   "execution_count": null,
   "id": "d4f4316f",
   "metadata": {
    "tags": [
     "hide-input"
    ]
   },
   "outputs": [],
   "source": [
    "%load_ext autoreload\n",
    "%autoreload 2\n",
    "\n",
    "import xarray as xr\n",
    "import os\n",
    "import cartopy.crs as ccrs\n",
    "import matplotlib.pyplot as plt\n",
    "\n",
    "import regional_utils as utils"
   ]
  },
  {
   "cell_type": "code",
   "execution_count": null,
   "id": "2b96e125",
   "metadata": {
    "tags": [
     "parameters",
     "hide-input"
    ]
   },
   "outputs": [],
   "source": [
    "CESM_output_dir = \"\"  # \"CROCODILE_tutorial_nwa12_MARBL\"\n",
    "case_name = \"\"  # \"/glade/campaign/cgd/oce/projects/CROCODILE/workshops/2025/Diagnostics/CESM_Output/\"\n",
    "\n",
    "## No timeseries or base case used in this notebook\n",
    "ts_dir = None\n",
    "base_case_output_dir = None\n",
    "base_case_name = None\n",
    "\n",
    "## As regional domains vary so much in purpose, simulation length, and extent, we don't want to assume a minimum duration\n",
    "## Thus, we ignore start and end dates and simply reduce/output over the whole time frame for all of the examples given.\n",
    "start_date = None  # \"0001-01-01\"\n",
    "end_date = None  # \"0101-01-01\"\n",
    "base_start_date = None  # \"0001-01-01\"\n",
    "base_end_date = None  # \"0101-01-01\"\n",
    "\n",
    "obs_data_dir = None\n",
    "\n",
    "savefigs = False\n",
    "fig_output_dir = None\n",
    "\n",
    "serial = False  # use dask LocalCluster\n",
    "\n",
    "lc_kwargs = {}"
   ]
  },
  {
   "cell_type": "code",
   "execution_count": null,
   "id": "ce343963",
   "metadata": {},
   "outputs": [],
   "source": [
    "# Parameters\n",
    "case_name = \"CROCODILE_tutorial_nwa12_MARBL\"\n",
    "base_case_name = \"CROCODILE_tutorial_nwa12_MARBL\"\n",
    "CESM_output_dir = \"/glade/campaign/cesm/development/cross-wg/diagnostic_framework/CESM_output_for_testing/\"\n",
    "start_date = \"2000-01-01\"\n",
    "end_date = \"2000-11-01\"\n",
    "base_start_date = \"\"\n",
    "base_end_date = \"\"\n",
    "ts_dir = \"/glade/derecho/scratch/ajanney/archive/\"\n",
    "lc_kwargs = {\"threads_per_worker\": 1}\n",
    "serial = True\n",
    "savefigs = True\n",
    "fig_output_dir = None\n",
    "subset_kwargs = {}\n",
    "product = \"/glade/work/ajanney/CUPiD/examples/regional_ocean/computed_notebooks//ocn/Regional_Ocean_Report_Card.ipynb\""
   ]
  },
  {
   "cell_type": "code",
   "execution_count": null,
   "id": "5c1e74a5",
   "metadata": {
    "tags": [
     "hide-input"
    ]
   },
   "outputs": [],
   "source": [
    "OUTDIR = f\"{CESM_output_dir}/{case_name}/ocn/hist/\"\n",
    "print(\"Output directory is:\", OUTDIR)"
   ]
  },
  {
   "cell_type": "code",
   "execution_count": null,
   "id": "dca031d0",
   "metadata": {
    "tags": [
     "hide-input"
    ]
   },
   "outputs": [],
   "source": [
    "case_output_dir = os.path.join(CESM_output_dir, case_name, \"ocn\", \"hist\")\n",
    "\n",
    "# Xarray time decoding things\n",
    "time_coder = xr.coders.CFDatetimeCoder(use_cftime=True)\n",
    "\n",
    "## Static data includes hgrid, vgrid, bathymetry, land/sea mask\n",
    "static_data = xr.open_mfdataset(\n",
    "    os.path.join(case_output_dir, f\"*static.nc\"),\n",
    "    decode_timedelta=True,\n",
    "    decode_times=time_coder,\n",
    "    engine=\"netcdf4\",\n",
    ")\n",
    "\n",
    "# ## Surface Data\n",
    "# sfc_data = xr.open_mfdataset(\n",
    "#     os.path.join(case_output_dir, f\"*sfc*.nc\"),\n",
    "#     decode_timedelta=True,\n",
    "#     decode_times=time_coder,\n",
    "#     engine=\"netcdf4\",\n",
    "# )\n",
    "\n",
    "## Native Monthly Domain Data (and atm forcing)\n",
    "monthly_data = xr.open_mfdataset(\n",
    "    os.path.join(case_output_dir, f\"*h.z*.nc\"),\n",
    "    decode_timedelta=True,\n",
    "    decode_times=time_coder,\n",
    "    engine=\"netcdf4\",\n",
    ")\n",
    "\n",
    "## Native Monthly Domain Data (and atm forcing)\n",
    "native_data = xr.open_mfdataset(\n",
    "    os.path.join(case_output_dir, f\"*native*.nc\"),\n",
    "    decode_timedelta=True,\n",
    "    decode_times=time_coder,\n",
    "    engine=\"netcdf4\",\n",
    ")\n",
    "\n",
    "## Image/Gif Output Directory\n",
    "if fig_output_dir is None:\n",
    "    image_output_dir = os.path.join(\n",
    "        \"/glade/derecho/scratch/\",\n",
    "        os.environ[\"USER\"],\n",
    "        \"archive\",\n",
    "        case_name,\n",
    "        \"ocn\",\n",
    "        \"cupid_images\",\n",
    "    )\n",
    "else:\n",
    "    image_output_dir = os.path.join(fig_output_dir, case_name, \"ocn\", \"cupid_images\")\n",
    "if not os.path.exists(image_output_dir):\n",
    "    os.makedirs(image_output_dir)\n",
    "print(\"Image output directory is:\", image_output_dir)"
   ]
  },
  {
   "cell_type": "code",
   "execution_count": null,
   "id": "b0a34be3",
   "metadata": {},
   "outputs": [],
   "source": [
    "## Apply time boundaries\n",
    "if len(start_date) > 0 and len(end_date) > 0:\n",
    "    import cftime\n",
    "\n",
    "    calendar = monthly_data.time.encoding.get(\"calendar\", \"standard\")\n",
    "\n",
    "    calendar_map = {\n",
    "        \"gregorian\": cftime.DatetimeProlepticGregorian,\n",
    "        \"noleap\": cftime.DatetimeNoLeap,\n",
    "    }\n",
    "\n",
    "    CFTime = calendar_map.get(calendar, cftime.DatetimeGregorian)\n",
    "    y, m, d = [int(i) for i in start_date.split(\"-\")]\n",
    "    start_date_time = CFTime(y, m, d)\n",
    "    y, m, d = [int(i) for i in end_date.split(\"-\")]\n",
    "    end_date_time = CFTime(y, m, d)\n",
    "\n",
    "    monthly_data = monthly_data.sel(time=slice(start_date_time, end_date_time))\n",
    "    native_data = native_data.sel(time=slice(start_date_time, end_date_time))"
   ]
  },
  {
   "cell_type": "code",
   "execution_count": null,
   "id": "24b862a1",
   "metadata": {},
   "outputs": [],
   "source": [
    "atm_variables = [\"hfds\", \"tauuo\", \"tauvo\"]\n",
    "atm_to_ocn_variables = {\"hfds\": \"thetao\", \"tauuo\": \"uo\", \"tauvo\": \"vo\"}\n",
    "\n",
    "for coord in list(static_data.variables):\n",
    "    if \"geolon\" in coord or \"geolat\" in coord:\n",
    "        native_data = native_data.assign_coords({coord: static_data[coord]})\n",
    "        monthly_data = monthly_data.assign_coords({coord: static_data[coord]})\n",
    "\n",
    "for var in atm_variables:\n",
    "    field = native_data[var]\n",
    "    sfc_var = atm_to_ocn_variables[var]\n",
    "    sfc_field = monthly_data[sfc_var].isel(z_l=0)\n",
    "\n",
    "    geocoords = utils.chooseGeoCoords(field.dims)\n",
    "    lon = geocoords[\"longitude\"]\n",
    "    lat = geocoords[\"latitude\"]\n",
    "\n",
    "    cmap = utils.chooseColorMap(var)\n",
    "\n",
    "    # Plot atmospheric variable for each month\n",
    "    g1 = field.plot(\n",
    "        x=lon, y=lat, col=\"time\", col_wrap=4, robust=True, figsize=(16, 10), cmap=cmap\n",
    "    )\n",
    "    plt.suptitle(f\"Atmosphere: {var} monthly fields\", fontsize=16, y=1.02)\n",
    "    # plt.tight_layout()\n",
    "    if savefigs:\n",
    "        plt.savefig(os.path.join(image_output_dir, f\"{var}_monthly_grid.png\"))\n",
    "    plt.show()\n",
    "\n",
    "    # Plot ocean surface variable for each month\n",
    "    g2 = sfc_field.plot(\n",
    "        x=lon, y=lat, col=\"time\", col_wrap=4, robust=True, figsize=(16, 10), cmap=cmap\n",
    "    )\n",
    "    plt.suptitle(f\"Ocean: {sfc_var} monthly fields\", fontsize=16, y=1.02)\n",
    "    # plt.tight_layout()\n",
    "    if savefigs:\n",
    "        plt.savefig(os.path.join(image_output_dir, f\"{sfc_var}_monthly_grid.png\"))\n",
    "    plt.show()"
   ]
  }
 ],
 "metadata": {
  "kernelspec": {
   "display_name": "Python [conda env:cupid-analysis]",
   "language": "python",
   "name": "conda-env-cupid-analysis-py"
  },
  "language_info": {
   "codemirror_mode": {
    "name": "ipython",
    "version": 3
   },
   "file_extension": ".py",
   "mimetype": "text/x-python",
   "name": "python",
   "nbconvert_exporter": "python",
   "pygments_lexer": "ipython3",
   "version": "3.11.4"
  }
 },
 "nbformat": 4,
 "nbformat_minor": 5
}
