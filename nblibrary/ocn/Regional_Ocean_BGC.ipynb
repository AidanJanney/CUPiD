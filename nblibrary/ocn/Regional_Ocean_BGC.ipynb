{
 "cells": [
  {
   "cell_type": "markdown",
   "id": "a6e7602e",
   "metadata": {},
   "source": [
    "## Regional Ocean: Coupled Biogeochemical Diagnostics"
   ]
  },
  {
   "cell_type": "markdown",
   "id": "b0f2c7a6",
   "metadata": {},
   "source": []
  }
 ],
 "metadata": {
  "language_info": {
   "name": "python"
  }
 },
 "nbformat": 4,
 "nbformat_minor": 5
}
